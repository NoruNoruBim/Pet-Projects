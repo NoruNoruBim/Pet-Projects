{
 "cells": [
  {
   "cell_type": "code",
   "execution_count": 1,
   "id": "a1026ca9",
   "metadata": {},
   "outputs": [],
   "source": [
    "import pandas as pd\n",
    "import numpy as np\n",
    "from sklearn.metrics import roc_auc_score"
   ]
  },
  {
   "cell_type": "markdown",
   "id": "838be40f",
   "metadata": {},
   "source": [
    "# Определить потенциально отточных клиентов\n",
    "\n",
    "    У нашей компании есть клиенты.\n",
    "    Они оплачивают наши услуги по различным тарифам. \n",
    "    У этих тарифов разная стоимость, разный срок действия и разные условия. Подробнее можно ознакомится здесь - https://www.b2b-center.ru/app/tariffs/?group=supplier.\n",
    "    Нашей компании важно знать, собирается ли клиент продлевать свой тариф или же перестанет пользоваться нашими услугами (\"оттечет\"). \n",
    "    Большинство тарифов квартальные и поэтому далее будем говорить об оплатах в рамках квартала.\n",
    "    \n",
    "    \n",
    "    "
   ]
  },
  {
   "cell_type": "markdown",
   "id": "f74d203e",
   "metadata": {},
   "source": [
    "# Тестовое задание\n",
    "    Тестовое задание моделирует (упрощенно) реальную задачу прогноза оплаты/оттока клиента и формат задачи выполнен аналогично задаче на kaggle.\n",
    "    Допустим мы находимся в 1 декабря 2022 года (все тренировочные данные заканчиваются этой датой)\n",
    "    \n",
    "    Нам важно знать кто из клиентов заплатит нам в 1 квартале 2023 года. Точное значение получить невозможно, поэтому хочется оценить \"вероятность\" этой оплаты.\n",
    "    \n",
    "    \n",
    "    В качестве проверочной метрики будет использоваться roc_auc_score, но интересно будет обсудить и альтернативные подходы к выбору метрики."
   ]
  },
  {
   "cell_type": "markdown",
   "id": "3fe0b8f0",
   "metadata": {},
   "source": [
    "# Данные"
   ]
  },
  {
   "cell_type": "code",
   "execution_count": 2,
   "id": "1002940e",
   "metadata": {},
   "outputs": [
    {
     "data": {
      "text/html": [
       "<div>\n",
       "<style scoped>\n",
       "    .dataframe tbody tr th:only-of-type {\n",
       "        vertical-align: middle;\n",
       "    }\n",
       "\n",
       "    .dataframe tbody tr th {\n",
       "        vertical-align: top;\n",
       "    }\n",
       "\n",
       "    .dataframe thead th {\n",
       "        text-align: right;\n",
       "    }\n",
       "</style>\n",
       "<table border=\"1\" class=\"dataframe\">\n",
       "  <thead>\n",
       "    <tr style=\"text-align: right;\">\n",
       "      <th></th>\n",
       "      <th>user_id</th>\n",
       "      <th>action_type</th>\n",
       "      <th>action_date</th>\n",
       "      <th>cnt_actions</th>\n",
       "    </tr>\n",
       "  </thead>\n",
       "  <tbody>\n",
       "    <tr>\n",
       "      <th>0</th>\n",
       "      <td>user_26091</td>\n",
       "      <td>action_2</td>\n",
       "      <td>2020-12-04</td>\n",
       "      <td>1</td>\n",
       "    </tr>\n",
       "    <tr>\n",
       "      <th>1</th>\n",
       "      <td>user_26091</td>\n",
       "      <td>action_2</td>\n",
       "      <td>2020-12-17</td>\n",
       "      <td>1</td>\n",
       "    </tr>\n",
       "    <tr>\n",
       "      <th>2</th>\n",
       "      <td>user_26091</td>\n",
       "      <td>action_2</td>\n",
       "      <td>2020-12-21</td>\n",
       "      <td>1</td>\n",
       "    </tr>\n",
       "    <tr>\n",
       "      <th>3</th>\n",
       "      <td>user_26091</td>\n",
       "      <td>action_2</td>\n",
       "      <td>2021-01-13</td>\n",
       "      <td>1</td>\n",
       "    </tr>\n",
       "    <tr>\n",
       "      <th>4</th>\n",
       "      <td>user_26091</td>\n",
       "      <td>action_2</td>\n",
       "      <td>2021-01-15</td>\n",
       "      <td>1</td>\n",
       "    </tr>\n",
       "  </tbody>\n",
       "</table>\n",
       "</div>"
      ],
      "text/plain": [
       "      user_id action_type action_date  cnt_actions\n",
       "0  user_26091    action_2  2020-12-04            1\n",
       "1  user_26091    action_2  2020-12-17            1\n",
       "2  user_26091    action_2  2020-12-21            1\n",
       "3  user_26091    action_2  2021-01-13            1\n",
       "4  user_26091    action_2  2021-01-15            1"
      ]
     },
     "execution_count": 2,
     "metadata": {},
     "output_type": "execute_result"
    }
   ],
   "source": [
    "\n",
    "\"\"\" \n",
    "В файле train_action_df.csv содержится информация о важнейших действиях на нашем сайте за последние 2 года. \n",
    "\n",
    "поля:\n",
    "    user_id - уникальный идентификатор клиента\n",
    "    action_type - 5 типов важнейших действий на нашем сайте. Категориальная переменная (action_4 НЕ обязательно важнее, чем action_3 и т.д.)\n",
    "    action_date - дата совершения действия\n",
    "    cnt_actions - количество действий данного типа, совершенных в эту дату\n",
    "\n",
    "\"\"\"\n",
    "\n",
    "train_action_df = pd.read_csv('train_action_df.csv')\n",
    "train_action_df.head()"
   ]
  },
  {
   "cell_type": "code",
   "execution_count": 3,
   "id": "1f2385d6",
   "metadata": {},
   "outputs": [
    {
     "data": {
      "text/html": [
       "<div>\n",
       "<style scoped>\n",
       "    .dataframe tbody tr th:only-of-type {\n",
       "        vertical-align: middle;\n",
       "    }\n",
       "\n",
       "    .dataframe tbody tr th {\n",
       "        vertical-align: top;\n",
       "    }\n",
       "\n",
       "    .dataframe thead th {\n",
       "        text-align: right;\n",
       "    }\n",
       "</style>\n",
       "<table border=\"1\" class=\"dataframe\">\n",
       "  <thead>\n",
       "    <tr style=\"text-align: right;\">\n",
       "      <th></th>\n",
       "      <th>user_id</th>\n",
       "      <th>pay_date</th>\n",
       "      <th>year</th>\n",
       "      <th>quarter</th>\n",
       "      <th>period</th>\n",
       "      <th>tariff</th>\n",
       "    </tr>\n",
       "  </thead>\n",
       "  <tbody>\n",
       "    <tr>\n",
       "      <th>0</th>\n",
       "      <td>user_50838</td>\n",
       "      <td>2021-01-03</td>\n",
       "      <td>2021</td>\n",
       "      <td>1</td>\n",
       "      <td>205</td>\n",
       "      <td>tariff_15</td>\n",
       "    </tr>\n",
       "    <tr>\n",
       "      <th>1</th>\n",
       "      <td>user_56500</td>\n",
       "      <td>2021-01-05</td>\n",
       "      <td>2021</td>\n",
       "      <td>1</td>\n",
       "      <td>205</td>\n",
       "      <td>tariff_20</td>\n",
       "    </tr>\n",
       "    <tr>\n",
       "      <th>2</th>\n",
       "      <td>user_50795</td>\n",
       "      <td>2021-01-05</td>\n",
       "      <td>2021</td>\n",
       "      <td>1</td>\n",
       "      <td>205</td>\n",
       "      <td>tariff_25</td>\n",
       "    </tr>\n",
       "    <tr>\n",
       "      <th>3</th>\n",
       "      <td>user_4718</td>\n",
       "      <td>2021-01-10</td>\n",
       "      <td>2021</td>\n",
       "      <td>1</td>\n",
       "      <td>205</td>\n",
       "      <td>tariff_10</td>\n",
       "    </tr>\n",
       "    <tr>\n",
       "      <th>4</th>\n",
       "      <td>user_22255</td>\n",
       "      <td>2021-01-10</td>\n",
       "      <td>2021</td>\n",
       "      <td>1</td>\n",
       "      <td>205</td>\n",
       "      <td>tariff_10</td>\n",
       "    </tr>\n",
       "  </tbody>\n",
       "</table>\n",
       "</div>"
      ],
      "text/plain": [
       "      user_id    pay_date  year  quarter  period     tariff\n",
       "0  user_50838  2021-01-03  2021        1     205  tariff_15\n",
       "1  user_56500  2021-01-05  2021        1     205  tariff_20\n",
       "2  user_50795  2021-01-05  2021        1     205  tariff_25\n",
       "3   user_4718  2021-01-10  2021        1     205  tariff_10\n",
       "4  user_22255  2021-01-10  2021        1     205  tariff_10"
      ]
     },
     "execution_count": 3,
     "metadata": {},
     "output_type": "execute_result"
    }
   ],
   "source": [
    "\n",
    "\"\"\" \n",
    "В файле train_pay_df содержится информация об оплатах за последние 2 года. \n",
    "\n",
    "поля:\n",
    "    user_id - уникальный идентификатор клиента\n",
    "    pay_date - дата совершения оплаты (НЕ всегда соответствует оплаченному периоду!!!)\n",
    "    year - год действия тарифа\n",
    "    quarter - квартал действия тарифа\n",
    "    tariff - обезличенный тип тарифа \n",
    "    \n",
    "\n",
    "Небольшие пояснения.\n",
    "Довольно часто клиенты оплачивают тариф заранее. Например, 1 ноября 2022 года могут оплатить 1 квартал 2023 года.\n",
    "    \n",
    "\"\"\"\n",
    "\n",
    "train_pay_df = pd.read_csv('train_pay_df.csv')\n",
    "train_pay_df.head()\n",
    "\n",
    "\n"
   ]
  },
  {
   "cell_type": "markdown",
   "id": "63778666",
   "metadata": {},
   "source": [
    "# Результат"
   ]
  },
  {
   "cell_type": "code",
   "execution_count": 4,
   "id": "46839237",
   "metadata": {},
   "outputs": [],
   "source": [
    "# в файле test_df находятся клиенты, для которых необходимо сделать прогноз\n",
    "test_df = pd.read_csv('test_df.csv')\n",
    "\n",
    "# результатом модель должна выдать вероятность (proba) для каждой строчки из этого файла\n",
    "# я заполню случайно для понимания формата файла\n",
    "test_df['proba'] = np.random.uniform(size = test_df.shape[0])"
   ]
  },
  {
   "cell_type": "code",
   "execution_count": 5,
   "id": "stable-synthesis",
   "metadata": {},
   "outputs": [
    {
     "data": {
      "text/html": [
       "<div>\n",
       "<style scoped>\n",
       "    .dataframe tbody tr th:only-of-type {\n",
       "        vertical-align: middle;\n",
       "    }\n",
       "\n",
       "    .dataframe tbody tr th {\n",
       "        vertical-align: top;\n",
       "    }\n",
       "\n",
       "    .dataframe thead th {\n",
       "        text-align: right;\n",
       "    }\n",
       "</style>\n",
       "<table border=\"1\" class=\"dataframe\">\n",
       "  <thead>\n",
       "    <tr style=\"text-align: right;\">\n",
       "      <th></th>\n",
       "      <th>user_id</th>\n",
       "      <th>year</th>\n",
       "      <th>quarter</th>\n",
       "      <th>period</th>\n",
       "      <th>proba</th>\n",
       "    </tr>\n",
       "  </thead>\n",
       "  <tbody>\n",
       "    <tr>\n",
       "      <th>0</th>\n",
       "      <td>user_44331</td>\n",
       "      <td>2022</td>\n",
       "      <td>4</td>\n",
       "      <td>212</td>\n",
       "      <td>0.882455</td>\n",
       "    </tr>\n",
       "    <tr>\n",
       "      <th>1</th>\n",
       "      <td>user_49203</td>\n",
       "      <td>2022</td>\n",
       "      <td>4</td>\n",
       "      <td>212</td>\n",
       "      <td>0.962668</td>\n",
       "    </tr>\n",
       "    <tr>\n",
       "      <th>2</th>\n",
       "      <td>user_21597</td>\n",
       "      <td>2022</td>\n",
       "      <td>4</td>\n",
       "      <td>212</td>\n",
       "      <td>0.442041</td>\n",
       "    </tr>\n",
       "    <tr>\n",
       "      <th>3</th>\n",
       "      <td>user_36314</td>\n",
       "      <td>2022</td>\n",
       "      <td>4</td>\n",
       "      <td>212</td>\n",
       "      <td>0.576818</td>\n",
       "    </tr>\n",
       "    <tr>\n",
       "      <th>4</th>\n",
       "      <td>user_45092</td>\n",
       "      <td>2022</td>\n",
       "      <td>4</td>\n",
       "      <td>212</td>\n",
       "      <td>0.085728</td>\n",
       "    </tr>\n",
       "  </tbody>\n",
       "</table>\n",
       "</div>"
      ],
      "text/plain": [
       "      user_id  year  quarter  period     proba\n",
       "0  user_44331  2022        4     212  0.882455\n",
       "1  user_49203  2022        4     212  0.962668\n",
       "2  user_21597  2022        4     212  0.442041\n",
       "3  user_36314  2022        4     212  0.576818\n",
       "4  user_45092  2022        4     212  0.085728"
      ]
     },
     "execution_count": 5,
     "metadata": {},
     "output_type": "execute_result"
    }
   ],
   "source": [
    "test_df.head()"
   ]
  },
  {
   "cell_type": "code",
   "execution_count": 6,
   "id": "9f71e862",
   "metadata": {},
   "outputs": [],
   "source": [
    "# в качестве результата достаточно прислать файл с 2-мя столбцами\n",
    "test_df[['user_id','proba']].to_csv('predict_df.csv', index = False)"
   ]
  },
  {
   "cell_type": "markdown",
   "id": "warming-mechanics",
   "metadata": {},
   "source": [
    "# Связь test_df и обучающих данных"
   ]
  },
  {
   "cell_type": "code",
   "execution_count": 7,
   "id": "f2d9cebd",
   "metadata": {
    "scrolled": true
   },
   "outputs": [],
   "source": [
    "# test_df может быть получен из train_pay_df следующим скриптом:\n",
    "copy_test_df = train_pay_df[(train_pay_df['year']==2022) & \n",
    "             (train_pay_df['quarter']==4)][['user_id','year','quarter','period']].drop_duplicates().reset_index(drop=True)\n",
    "\n",
    "assert copy_test_df.shape[0]==copy_test_df.merge(test_df).shape[0]"
   ]
  },
  {
   "cell_type": "code",
   "execution_count": 8,
   "id": "87944889",
   "metadata": {},
   "outputs": [
    {
     "data": {
      "text/html": [
       "<div>\n",
       "<style scoped>\n",
       "    .dataframe tbody tr th:only-of-type {\n",
       "        vertical-align: middle;\n",
       "    }\n",
       "\n",
       "    .dataframe tbody tr th {\n",
       "        vertical-align: top;\n",
       "    }\n",
       "\n",
       "    .dataframe thead th {\n",
       "        text-align: right;\n",
       "    }\n",
       "</style>\n",
       "<table border=\"1\" class=\"dataframe\">\n",
       "  <thead>\n",
       "    <tr style=\"text-align: right;\">\n",
       "      <th></th>\n",
       "      <th>user_id</th>\n",
       "      <th>year</th>\n",
       "      <th>quarter</th>\n",
       "      <th>period</th>\n",
       "    </tr>\n",
       "  </thead>\n",
       "  <tbody>\n",
       "    <tr>\n",
       "      <th>0</th>\n",
       "      <td>user_44331</td>\n",
       "      <td>2022</td>\n",
       "      <td>4</td>\n",
       "      <td>212</td>\n",
       "    </tr>\n",
       "    <tr>\n",
       "      <th>1</th>\n",
       "      <td>user_49203</td>\n",
       "      <td>2022</td>\n",
       "      <td>4</td>\n",
       "      <td>212</td>\n",
       "    </tr>\n",
       "    <tr>\n",
       "      <th>2</th>\n",
       "      <td>user_21597</td>\n",
       "      <td>2022</td>\n",
       "      <td>4</td>\n",
       "      <td>212</td>\n",
       "    </tr>\n",
       "    <tr>\n",
       "      <th>3</th>\n",
       "      <td>user_36314</td>\n",
       "      <td>2022</td>\n",
       "      <td>4</td>\n",
       "      <td>212</td>\n",
       "    </tr>\n",
       "    <tr>\n",
       "      <th>4</th>\n",
       "      <td>user_45092</td>\n",
       "      <td>2022</td>\n",
       "      <td>4</td>\n",
       "      <td>212</td>\n",
       "    </tr>\n",
       "  </tbody>\n",
       "</table>\n",
       "</div>"
      ],
      "text/plain": [
       "      user_id  year  quarter  period\n",
       "0  user_44331  2022        4     212\n",
       "1  user_49203  2022        4     212\n",
       "2  user_21597  2022        4     212\n",
       "3  user_36314  2022        4     212\n",
       "4  user_45092  2022        4     212"
      ]
     },
     "execution_count": 8,
     "metadata": {},
     "output_type": "execute_result"
    }
   ],
   "source": [
    "copy_test_df.head()"
   ]
  },
  {
   "cell_type": "markdown",
   "id": "6cebe15c",
   "metadata": {},
   "source": [
    "# Проверка"
   ]
  },
  {
   "cell_type": "code",
   "execution_count": 9,
   "id": "ad5e1584",
   "metadata": {},
   "outputs": [
    {
     "name": "stdout",
     "output_type": "stream",
     "text": [
      "Финальная метрика 0.4962176896999742\n"
     ]
    }
   ],
   "source": [
    "# при проверке я возьму реальные данные об оплатах каждым пользователем \n",
    "# хотя бы 1 раз period = 213 (year = 2023, quarter = 1)\n",
    "# Если пользователь заплатил, то target = 1, если нет = 0.\n",
    "\n",
    "# для примера сейчас тоже заполню случайно\n",
    "test_df['target'] = np.random.randint(0, 2, size = test_df.shape[0])\n",
    "\n",
    "print('Финальная метрика', roc_auc_score(test_df['target'], test_df['proba']))"
   ]
  },
  {
   "cell_type": "markdown",
   "id": "strong-cloud",
   "metadata": {},
   "source": [
    "# Решение\n",
    "\n",
    "## Кроме файла с прогнозом (predict_df.csv) крайне желательно прислать ноутбук или скрипт, которым это решение было получено для понимания уровня кандидата"
   ]
  },
  {
   "cell_type": "code",
   "execution_count": null,
   "id": "adolescent-seeker",
   "metadata": {},
   "outputs": [],
   "source": []
  },
  {
   "cell_type": "code",
   "execution_count": null,
   "id": "stainless-consumer",
   "metadata": {},
   "outputs": [],
   "source": []
  },
  {
   "cell_type": "code",
   "execution_count": null,
   "id": "spare-childhood",
   "metadata": {},
   "outputs": [],
   "source": []
  }
 ],
 "metadata": {
  "kernelspec": {
   "display_name": "Python 3",
   "language": "python",
   "name": "python3"
  },
  "language_info": {
   "codemirror_mode": {
    "name": "ipython",
    "version": 3
   },
   "file_extension": ".py",
   "mimetype": "text/x-python",
   "name": "python",
   "nbconvert_exporter": "python",
   "pygments_lexer": "ipython3",
   "version": "3.9.1"
  }
 },
 "nbformat": 4,
 "nbformat_minor": 5
}
